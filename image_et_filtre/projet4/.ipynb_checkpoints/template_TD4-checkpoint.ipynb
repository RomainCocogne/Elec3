{
 "cells": [
  {
   "cell_type": "markdown",
   "metadata": {},
   "source": [
    "### Projet 4: decomposer une image sur une base d'ondlelettes.\n",
    "========\n",
    "========\n",
    "--------\n",
    "Combal Quentin\n",
    "\n",
    "Cocogne Romain"
   ]
  },
  {
   "cell_type": "code",
   "execution_count": null,
   "metadata": {},
   "outputs": [],
   "source": [
    "import numpy as np\n",
    "import matplotlib.pyplot as plt\n",
    "import cv2\n",
    "import math\n",
    "import scipy\n",
    "%matplotlib inline \n"
   ]
  },
  {
   "cell_type": "markdown",
   "metadata": {},
   "source": [
    " 1) Programmer l'algorithme obtenu à la fin de la séance pour un vecteur de taille ${2^{q}}$ où q\n",
    "est un entier strictement positif arbitraire."
   ]
  },
  {
   "cell_type": "code",
   "execution_count": 31,
   "metadata": {},
   "outputs": [],
   "source": [
    "def indicesdemi(depth):\n",
    "    w=np.zeros((depth,depth))\n",
    "    for i in range(depth//2):\n",
    "        w[i,2*i:2*i+2]=0.5\n",
    "        w[depth//2+i,2*i]=-0.5\n",
    "        w[depth//2+i,2*i+1]=0.5\n",
    "    return w\n",
    "\n",
    "def wn(n,depth):\n",
    "    w=indicesdemi(depth)\n",
    "    w_n=np.identity(n)\n",
    "    w_n[:depth,:depth]=w\n",
    "    return w_n\n",
    "def kn(n,depth):\n",
    "    k=indicesdemi(depth)\n",
    "    k=2*k.T\n",
    "    k_n=np.identity(n)\n",
    "    k_n[:depth,:depth]=k\n",
    "    return k_n\n",
    "\n",
    "def decompose1D (vect,q):\n",
    "    p=vect.size\n",
    "    w=[]\n",
    "    while(vect.size>p-2**q+1 and vect.size>1):\n",
    "        w.append(np.array((vect[1::2]-vect[:-1:2])/2))\n",
    "        vect=(vect[1::2]+vect[:-1:2])/2\n",
    "    return vect,w\n",
    "\n",
    "def decompose1Dmat(vect,q):\n",
    "    p=vect.size\n",
    "    i=0\n",
    "    while(2**i<p and i<q):\n",
    "        vect=vect@wn(vect.size,vect.size//2**i).T\n",
    "        i+=1\n",
    "    return vect"
   ]
  },
  {
   "cell_type": "code",
   "execution_count": 32,
   "metadata": {},
   "outputs": [
    {
     "name": "stdout",
     "output_type": "stream",
     "text": [
      "(array([3.]), [array([-3.,  0., -4., -1.]), array([1., 2.]), array([-2.])])\n",
      "[ 3. -2.  1.  2. -3.  0. -4. -1.]\n"
     ]
    }
   ],
   "source": [
    "v0=np.array([7,1,6,6,3,-5,4,2])\n",
    "print(decompose1D(v0,5))\n",
    "v0=np.array([7,1,6,6,3,-5,4,2])\n",
    "v0_comp=decompose1Dmat(v0,3)\n",
    "print(v0_comp)"
   ]
  },
  {
   "cell_type": "code",
   "execution_count": 42,
   "metadata": {},
   "outputs": [],
   "source": [
    "def recompose1Dmat(vect):\n",
    "    p=vect.size\n",
    "    i=int(np.log2(p))\n",
    "    while(i>0):\n",
    "        k=(kn(vect.size,vect.size//2**(i-1)))\n",
    "        vect=vect@k.T\n",
    "        i-=1\n",
    "    return vect"
   ]
  },
  {
   "cell_type": "code",
   "execution_count": 43,
   "metadata": {
    "scrolled": true
   },
   "outputs": [
    {
     "name": "stdout",
     "output_type": "stream",
     "text": [
      "[ 7.  1.  6.  6.  3. -5.  4.  2.]\n"
     ]
    }
   ],
   "source": [
    "new_v0=recompose1Dmat(v0_comp)\n",
    "print(new_v0)"
   ]
  },
  {
   "cell_type": "markdown",
   "metadata": {},
   "source": [
    "2) Étendre l'algorithme précédent au cas d'une image (Lena.png). Il faudra veiller au formalisme\n",
    "mathématique lorsque la décomposition sera écrite sous forme matricielle. Programmer\n",
    "l'algorithme proposé puis étudier et expliquer ses performances sur le image fournies par l'ingénieur."
   ]
  },
  {
   "cell_type": "code",
   "execution_count": null,
   "metadata": {},
   "outputs": [],
   "source": []
  },
  {
   "cell_type": "code",
   "execution_count": null,
   "metadata": {},
   "outputs": [],
   "source": []
  },
  {
   "cell_type": "code",
   "execution_count": null,
   "metadata": {},
   "outputs": [],
   "source": []
  },
  {
   "cell_type": "code",
   "execution_count": null,
   "metadata": {},
   "outputs": [],
   "source": []
  },
  {
   "cell_type": "markdown",
   "metadata": {},
   "source": [
    "3)Applications de la transformée de Haar.\n",
    "Method:"
   ]
  },
  {
   "cell_type": "code",
   "execution_count": null,
   "metadata": {},
   "outputs": [],
   "source": []
  },
  {
   "cell_type": "code",
   "execution_count": null,
   "metadata": {},
   "outputs": [],
   "source": []
  },
  {
   "cell_type": "code",
   "execution_count": null,
   "metadata": {},
   "outputs": [],
   "source": []
  },
  {
   "cell_type": "code",
   "execution_count": null,
   "metadata": {},
   "outputs": [],
   "source": []
  }
 ],
 "metadata": {
  "kernelspec": {
   "display_name": "Python 3",
   "language": "python",
   "name": "python3"
  },
  "language_info": {
   "codemirror_mode": {
    "name": "ipython",
    "version": 3
   },
   "file_extension": ".py",
   "mimetype": "text/x-python",
   "name": "python",
   "nbconvert_exporter": "python",
   "pygments_lexer": "ipython3",
   "version": "3.7.0"
  },
  "latex_envs": {
   "LaTeX_envs_menu_present": true,
   "autoclose": false,
   "autocomplete": true,
   "bibliofile": "biblio.bib",
   "cite_by": "apalike",
   "current_citInitial": 1,
   "eqLabelWithNumbers": true,
   "eqNumInitial": 1,
   "hotkeys": {
    "equation": "Ctrl-E",
    "itemize": "Ctrl-I"
   },
   "labels_anchors": false,
   "latex_user_defs": false,
   "report_style_numbering": false,
   "user_envs_cfg": false
  },
  "varInspector": {
   "cols": {
    "lenName": 16,
    "lenType": 16,
    "lenVar": 40
   },
   "kernels_config": {
    "python": {
     "delete_cmd_postfix": "",
     "delete_cmd_prefix": "del ",
     "library": "var_list.py",
     "varRefreshCmd": "print(var_dic_list())"
    },
    "r": {
     "delete_cmd_postfix": ") ",
     "delete_cmd_prefix": "rm(",
     "library": "var_list.r",
     "varRefreshCmd": "cat(var_dic_list()) "
    }
   },
   "types_to_exclude": [
    "module",
    "function",
    "builtin_function_or_method",
    "instance",
    "_Feature"
   ],
   "window_display": false
  }
 },
 "nbformat": 4,
 "nbformat_minor": 1
}
