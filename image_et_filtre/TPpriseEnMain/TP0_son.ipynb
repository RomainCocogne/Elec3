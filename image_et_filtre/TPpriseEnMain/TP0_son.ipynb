{
 "cells": [
  {
   "cell_type": "markdown",
   "metadata": {},
   "source": [
    "### Signaux 1D : le son\n",
    "\n",
    "Dans cette partie, vous allez simplement charger des sons, les écouter, regarder leur allure de spectre et voir l’influence de la fréquence d’échantillonnage.\n",
    "\n",
    "Un son est reproduit, sous forme électrique, par un signal continu ayant un spectre qui peut aller de « 0 Hz » à plusieurs dizaines de kilohertz.  L’oreille humaine s’arrête à environ 10 kHz, mais le son lui-même peut aller jusque beaucoup plus haut.\n",
    "\n",
    "Dans un premier temps, vous allez charger une suite de 24 notes (les 12 notes de la gamme chromatique, le tout sur deux octaves).  Utilisez le help pour connaître la signification des paramètres."
   ]
  },
  {
   "cell_type": "code",
   "execution_count": 1,
   "metadata": {},
   "outputs": [
    {
     "name": "stdout",
     "output_type": "stream",
     "text": [
      "44100\n"
     ]
    }
   ],
   "source": [
    "import numpy as np\n",
    "import matplotlib.pyplot as plt\n",
    "import scipy.io.wavfile\n",
    "Fs, s = scipy.io.wavfile.read('Sans titre-2.wav')\n",
    "print Fs"
   ]
  },
  {
   "cell_type": "code",
   "execution_count": 3,
   "metadata": {},
   "outputs": [],
   "source": [
    "#écouter le son \n",
    "import vlc\n",
    "p = vlc.MediaPlayer('Sans titre-2.wav')\n",
    "p.play()\n"
   ]
  },
  {
   "cell_type": "code",
   "execution_count": 4,
   "metadata": {},
   "outputs": [
    {
     "data": {
      "text/plain": [
       "(1102848, 2)"
      ]
     },
     "execution_count": 4,
     "metadata": {},
     "output_type": "execute_result"
    }
   ],
   "source": [
    "s1 = s[:,1]\n",
    "s1 = np.resize(s1,(1,1102848))\n",
    "s.shape"
   ]
  },
  {
   "cell_type": "code",
   "execution_count": 5,
   "metadata": {},
   "outputs": [],
   "source": [
    "x1 = np.arange(0,1.005,0.005)\n",
    "x2 = np.ones(Fs-3000-402)\n",
    "x3 = np.arange(1.005,0,-0.005) "
   ]
  },
  {
   "cell_type": "code",
   "execution_count": 6,
   "metadata": {},
   "outputs": [
    {
     "data": {
      "text/plain": [
       "(41100,)"
      ]
     },
     "execution_count": 6,
     "metadata": {},
     "output_type": "execute_result"
    }
   ],
   "source": [
    "a = np.concatenate((x1,x2))\n",
    "win =  np.concatenate((a,x3))\n",
    "win.shape"
   ]
  },
  {
   "cell_type": "code",
   "execution_count": 7,
   "metadata": {},
   "outputs": [],
   "source": [
    "note = list()\n",
    "for i in range(1,24):\n",
    "    note.append(s1[0,(np.dot(Fs,i-1)+3000):(np.dot(Fs,i))]*win)"
   ]
  },
  {
   "cell_type": "code",
   "execution_count": 8,
   "metadata": {},
   "outputs": [],
   "source": [
    "#Selection premier note\n",
    "y = note[0]"
   ]
  },
  {
   "cell_type": "code",
   "execution_count": 9,
   "metadata": {},
   "outputs": [],
   "source": [
    "#Spectre premier note\n",
    "n = len(y) \n",
    "k = np.arange(n)\n",
    "T = n/float(Fs)\n",
    "frq = k/float(T)      \n",
    "frq = frq[range(n/2)] \n",
    "Y = np.fft.fft(y, norm=\"ortho\")\n",
    "Y = Y[range(n/2)]"
   ]
  },
  {
   "cell_type": "code",
   "execution_count": 13,
   "metadata": {},
   "outputs": [
    {
     "data": {
      "image/png": "[encoded data removed]",
      "text/plain": [
       "<matplotlib.figure.Figure at 0x7f79b0059590>"
      ]
     },
     "metadata": {},
     "output_type": "display_data"
    }
   ],
   "source": [
    "#Affichage spectre\n",
    "import matplotlib.pyplot as plt\n",
    "plt.figure(1,figsize = (10,5))\n",
    "plt.plot(frq,abs(Y)**2)\n",
    "plt.xlim(0, 1500 ) \n",
    "plt.title('Spectre note1')\n",
    "plt.xlabel('Freq (Hz)')\n",
    "plt.ylabel('|Y(freq)|')\n",
    "plt.show()"
   ]
  },
  {
   "cell_type": "markdown",
   "metadata": {
    "collapsed": true
   },
   "source": [
    "Essayer d'afficher les different spectres des autres notes. Que dire des harmoniques?\n"
   ]
  },
  {
   "cell_type": "code",
   "execution_count": null,
   "metadata": {},
   "outputs": [],
   "source": []
  },
  {
   "cell_type": "code",
   "execution_count": null,
   "metadata": {},
   "outputs": [],
   "source": []
  },
  {
   "cell_type": "code",
   "execution_count": null,
   "metadata": {},
   "outputs": [],
   "source": []
  },
  {
   "cell_type": "code",
   "execution_count": null,
   "metadata": {},
   "outputs": [],
   "source": []
  },
  {
   "cell_type": "code",
   "execution_count": null,
   "metadata": {},
   "outputs": [],
   "source": []
  },
  {
   "cell_type": "code",
   "execution_count": null,
   "metadata": {},
   "outputs": [],
   "source": []
  }
 ],
 "metadata": {
  "kernelspec": {
   "display_name": "Python 3",
   "language": "python",
   "name": "python3"
  },
  "language_info": {
   "codemirror_mode": {
    "name": "ipython",
    "version": 3
   },
   "file_extension": ".py",
   "mimetype": "text/x-python",
   "name": "python",
   "nbconvert_exporter": "python",
   "pygments_lexer": "ipython3",
   "version": "3.7.0"
  }
 },
 "nbformat": 4,
 "nbformat_minor": 1
}
