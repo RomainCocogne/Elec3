{
 "cells": [
  {
   "cell_type": "markdown",
   "metadata": {},
   "source": [
    "### Signaux 1D : le son"
   ]
  },
  {
   "cell_type": "code",
   "execution_count": 62,
   "metadata": {
    "collapsed": false
   },
   "outputs": [
    {
     "name": "stdout",
     "output_type": "stream",
     "text": [
      "44100\n"
     ]
    }
   ],
   "source": [
    "import numpy as np\n",
    "import scipy.io.wavfile\n",
    "Fs, s = scipy.io.wavfile.read('Sans titre-2.wav')\n",
    "print Fs\n"
   ]
  },
  {
   "cell_type": "code",
   "execution_count": 63,
   "metadata": {
    "collapsed": false
   },
   "outputs": [],
   "source": [
    "import vlc\n",
    "p = vlc.MediaPlayer('Sans titre-2.wav')\n",
    "#p.play()"
   ]
  },
  {
   "cell_type": "code",
   "execution_count": 40,
   "metadata": {
    "collapsed": false
   },
   "outputs": [],
   "source": [
    "#s1 = ((s[:,1]+2**15)/float(2**16))-1\n",
    "s1 = s[:,1]\n",
    "s2 = s1 - s1.mean()\n",
    "#a = s1.astype(float)\n",
    "idx = 0\n",
    "nota = s2[idx*Fs:(idx+1)*Fs]\n",
    "import matplotlib.pyplot as plt\n",
    "fs = np.absolute(np.fft.fft(nota))**2\n",
    "#p = 20*np.log10(np.abs(np.fft.rfft(x)))\n",
    "#f = np.linspace(0, rate/2, len(p))\n",
    "#plt.plot(np.linspace(0, Fs/2, len(fs)), 20*np.log10(fs))\n",
    "plt.plot(fs)\n",
    "plt.show()"
   ]
  },
  {
   "cell_type": "code",
   "execution_count": 41,
   "metadata": {
    "collapsed": false
   },
   "outputs": [
    {
     "data": {
      "text/plain": [
       "(1102848, 2)"
      ]
     },
     "execution_count": 41,
     "metadata": {},
     "output_type": "execute_result"
    }
   ],
   "source": [
    "s1 = np.resize(s1,(1,1102848))\n",
    "s.shape"
   ]
  },
  {
   "cell_type": "code",
   "execution_count": 42,
   "metadata": {
    "collapsed": false
   },
   "outputs": [],
   "source": [
    "x1 = np.arange(0,1.005,0.005) \n",
    "x2 = np.ones(Fs-3000-402)\n",
    "x3 = np.arange(1.005,0,-0.005) "
   ]
  },
  {
   "cell_type": "code",
   "execution_count": 43,
   "metadata": {
    "collapsed": false
   },
   "outputs": [
    {
     "data": {
      "text/plain": [
       "(41100,)"
      ]
     },
     "execution_count": 43,
     "metadata": {},
     "output_type": "execute_result"
    }
   ],
   "source": [
    "a = np.concatenate((x1,x2))\n",
    "win =  np.concatenate((a,x3))\n",
    "win.shape"
   ]
  },
  {
   "cell_type": "code",
   "execution_count": 44,
   "metadata": {
    "collapsed": false
   },
   "outputs": [],
   "source": [
    "note = list()\n",
    "for i in range(1,24):\n",
    "    #note=(np.dot((s[0,(np.dot(Fs,i-1)+3000):(np.dot(Fs,i))]),win))\n",
    "    note.append(s1[0,(np.dot(Fs,i-1)+3000):(np.dot(Fs,i))]*win)\n",
    "\n",
    "\n",
    "fs = np.absolute(np.fft.fft(note[0]))**2\n",
    "#p = 20*np.log10(np.abs(np.fft.rfft(x)))\n",
    "#f = np.linspace(0, rate/2, len(p))\n",
    "#plt.plot(np.linspace(0, Fs/2, len(fs)), 20*np.log10(fs))\n",
    "plt.plot(fs)\n",
    "plt.show()\n"
   ]
  },
  {
   "cell_type": "code",
   "execution_count": 29,
   "metadata": {
    "collapsed": false
   },
   "outputs": [],
   "source": [
    "#note = np.asanyarray(note)"
   ]
  },
  {
   "cell_type": "code",
   "execution_count": null,
   "metadata": {
    "collapsed": false
   },
   "outputs": [],
   "source": []
  },
  {
   "cell_type": "code",
   "execution_count": 45,
   "metadata": {
    "collapsed": false
   },
   "outputs": [
    {
     "data": {
      "text/plain": [
       "41100"
      ]
     },
     "execution_count": 45,
     "metadata": {},
     "output_type": "execute_result"
    }
   ],
   "source": [
    "#note = np.resize(note,(41100*24,1))\n",
    "len(note)\n",
    "y = note[0]\n",
    "len(y)"
   ]
  },
  {
   "cell_type": "code",
   "execution_count": 59,
   "metadata": {
    "collapsed": false
   },
   "outputs": [
    {
     "name": "stdout",
     "output_type": "stream",
     "text": [
      "[  0.00000000e+00   1.07299270e+00   2.14598540e+00 ...,   2.20467810e+04\n",
      "   2.20478540e+04   2.20489270e+04]\n"
     ]
    }
   ],
   "source": [
    "n = len(y) # length of the signal\n",
    "k = np.arange(n)\n",
    "T = n/float(Fs)\n",
    "frq = k/float(T) # two sides frequency range\n",
    "frq = frq[range(n/2)] # one side frequency range\n",
    "Y = np.fft.fft(y, norm=\"ortho\")# fft computing and normalization\n",
    "Y = Y[range(n/2)]\n",
    "print frq"
   ]
  },
  {
   "cell_type": "code",
   "execution_count": 60,
   "metadata": {
    "collapsed": false
   },
   "outputs": [],
   "source": [
    "import matplotlib.pyplot as plt\n",
    "plt.plot(frq,abs(Y)**2)\n",
    "plt.show()"
   ]
  },
  {
   "cell_type": "markdown",
   "metadata": {
    "collapsed": true
   },
   "source": [
    "Dans ce cas –ci également, jouez avec les différents paramètres, en particulier, regardez le spectre de différentes notes seules. (par exemple, pour la première note : analyze(music(0*Fs+1:1*Fs),1,500,Fs,Fs) ; voire analyze(music(0*Fs+1:1*Fs),1,1500,Fs,Fs)).  Que dire des harmoniques ?\n"
   ]
  },
  {
   "cell_type": "code",
   "execution_count": 61,
   "metadata": {
    "collapsed": false
   },
   "outputs": [
    {
     "name": "stderr",
     "output_type": "stream",
     "text": [
      "/home/fturi/apps/anaconda2/lib/python2.7/site-packages/ipykernel/__main__.py:13: RuntimeWarning: divide by zero encountered in divide\n"
     ]
    }
   ],
   "source": [
    "from numpy import sin, linspace, pi\n",
    "from pylab import plot, show, title, xlabel, ylabel, subplot\n",
    "from scipy import fft, arange\n",
    "\n",
    "def plotSpectrum(y,Fs):\n",
    " \"\"\"\n",
    " Plots a Single-Sided Amplitude Spectrum of y(t)\n",
    " \"\"\"\n",
    " y = note\n",
    " n = len(y) # length of the signal\n",
    " k = arange(n)\n",
    " T = n/Fs\n",
    " frq = k/T # two sides frequency range\n",
    " frq = frq[range(n/2)] # one side frequency range\n",
    "\n",
    " Y = fft(y)/n # fft computing and normalization\n",
    " Y = Y[range(n/2)]\n",
    " \n",
    " plot(frq,abs(Y),'r') # plotting the spectrum\n",
    " xlabel('Freq (Hz)')\n",
    " ylabel('|Y(freq)|')\n",
    "\n",
    "#Fs = 150.0;  # sampling rate\n",
    "#Ts = 1.0/Fs; # sampling interval\n",
    "#t = arange(0,1,Ts) # time vector\n",
    "\n",
    "#ff = 5;   # frequency of the signal\n",
    "#y = sin(2*pi*ff*t)\n",
    "\n",
    "subplot(2,1,1)\n",
    "#plot(t,y)\n",
    "xlabel('Time')\n",
    "ylabel('Amplitude')\n",
    "subplot(2,1,2)\n",
    "plotSpectrum(y,Fs)\n",
    "show()"
   ]
  },
  {
   "cell_type": "code",
   "execution_count": null,
   "metadata": {
    "collapsed": false
   },
   "outputs": [],
   "source": []
  },
  {
   "cell_type": "code",
   "execution_count": null,
   "metadata": {
    "collapsed": true
   },
   "outputs": [],
   "source": []
  }
 ],
 "metadata": {
  "kernelspec": {
   "display_name": "Python [default]",
   "language": "python",
   "name": "python2"
  },
  "language_info": {
   "codemirror_mode": {
    "name": "ipython",
    "version": 2
   },
   "file_extension": ".py",
   "mimetype": "text/x-python",
   "name": "python",
   "nbconvert_exporter": "python",
   "pygments_lexer": "ipython2",
   "version": "2.7.14"
  }
 },
 "nbformat": 4,
 "nbformat_minor": 0
}
