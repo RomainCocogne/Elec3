{
 "cells": [
  {
   "cell_type": "markdown",
   "metadata": {},
   "source": [
    "### TD 3.1  Manipulation de vecteurs et de matrices\n",
    "\n",
    "Dans ce TD, vous devrez répondre à un certain nombre de questions/exercices de base dans un premier temps, et de manipulation de vecteurs et ou matrices ensuite\n",
    "\n"
   ]
  },
  {
   "cell_type": "markdown",
   "metadata": {},
   "source": [
    "### 1. (Ecrire un programme pour) Afficher la version de numpy et la configuration de numpy"
   ]
  },
  {
   "cell_type": "code",
   "execution_count": 2,
   "metadata": {
    "scrolled": true
   },
   "outputs": [
    {
     "name": "stdout",
     "output_type": "stream",
     "text": [
      "1.15.1\n",
      "mkl_info:\n",
      "    libraries = ['mkl_rt', 'pthread']\n",
      "    library_dirs = ['/home/romain/anaconda3/lib']\n",
      "    define_macros = [('SCIPY_MKL_H', None), ('HAVE_CBLAS', None)]\n",
      "    include_dirs = ['/home/romain/anaconda3/include']\n",
      "blas_mkl_info:\n",
      "    libraries = ['mkl_rt', 'pthread']\n",
      "    library_dirs = ['/home/romain/anaconda3/lib']\n",
      "    define_macros = [('SCIPY_MKL_H', None), ('HAVE_CBLAS', None)]\n",
      "    include_dirs = ['/home/romain/anaconda3/include']\n",
      "blas_opt_info:\n",
      "    libraries = ['mkl_rt', 'pthread']\n",
      "    library_dirs = ['/home/romain/anaconda3/lib']\n",
      "    define_macros = [('SCIPY_MKL_H', None), ('HAVE_CBLAS', None)]\n",
      "    include_dirs = ['/home/romain/anaconda3/include']\n",
      "lapack_mkl_info:\n",
      "    libraries = ['mkl_rt', 'pthread']\n",
      "    library_dirs = ['/home/romain/anaconda3/lib']\n",
      "    define_macros = [('SCIPY_MKL_H', None), ('HAVE_CBLAS', None)]\n",
      "    include_dirs = ['/home/romain/anaconda3/include']\n",
      "lapack_opt_info:\n",
      "    libraries = ['mkl_rt', 'pthread']\n",
      "    library_dirs = ['/home/romain/anaconda3/lib']\n",
      "    define_macros = [('SCIPY_MKL_H', None), ('HAVE_CBLAS', None)]\n",
      "    include_dirs = ['/home/romain/anaconda3/include']\n"
     ]
    }
   ],
   "source": [
    "import numpy\n",
    "print (numpy.version.version)\n",
    "numpy.show_config()"
   ]
  },
  {
   "cell_type": "markdown",
   "metadata": {},
   "source": [
    "### 2. Afficher, de deux manières, le help de la fonction *arange* (utilisez help et np.info)"
   ]
  },
  {
   "cell_type": "code",
   "execution_count": 4,
   "metadata": {
    "scrolled": false
   },
   "outputs": [
    {
     "name": "stdout",
     "output_type": "stream",
     "text": [
      "Help on built-in function arange in module numpy.core.multiarray:\n",
      "\n",
      "arange(...)\n",
      "    arange([start,] stop[, step,], dtype=None)\n",
      "    \n",
      "    Return evenly spaced values within a given interval.\n",
      "    \n",
      "    Values are generated within the half-open interval ``[start, stop)``\n",
      "    (in other words, the interval including `start` but excluding `stop`).\n",
      "    For integer arguments the function is equivalent to the Python built-in\n",
      "    `range <http://docs.python.org/lib/built-in-funcs.html>`_ function,\n",
      "    but returns an ndarray rather than a list.\n",
      "    \n",
      "    When using a non-integer step, such as 0.1, the results will often not\n",
      "    be consistent.  It is better to use ``linspace`` for these cases.\n",
      "    \n",
      "    Parameters\n",
      "    ----------\n",
      "    start : number, optional\n",
      "        Start of interval.  The interval includes this value.  The default\n",
      "        start value is 0.\n",
      "    stop : number\n",
      "        End of interval.  The interval does not include this value, except\n",
      "        in some cases where `step` is not an integer and floating point\n",
      "        round-off affects the length of `out`.\n",
      "    step : number, optional\n",
      "        Spacing between values.  For any output `out`, this is the distance\n",
      "        between two adjacent values, ``out[i+1] - out[i]``.  The default\n",
      "        step size is 1.  If `step` is specified as a position argument,\n",
      "        `start` must also be given.\n",
      "    dtype : dtype\n",
      "        The type of the output array.  If `dtype` is not given, infer the data\n",
      "        type from the other input arguments.\n",
      "    \n",
      "    Returns\n",
      "    -------\n",
      "    arange : ndarray\n",
      "        Array of evenly spaced values.\n",
      "    \n",
      "        For floating point arguments, the length of the result is\n",
      "        ``ceil((stop - start)/step)``.  Because of floating point overflow,\n",
      "        this rule may result in the last element of `out` being greater\n",
      "        than `stop`.\n",
      "    \n",
      "    See Also\n",
      "    --------\n",
      "    linspace : Evenly spaced numbers with careful handling of endpoints.\n",
      "    ogrid: Arrays of evenly spaced numbers in N-dimensions.\n",
      "    mgrid: Grid-shaped arrays of evenly spaced numbers in N-dimensions.\n",
      "    \n",
      "    Examples\n",
      "    --------\n",
      "    >>> np.arange(3)\n",
      "    array([0, 1, 2])\n",
      "    >>> np.arange(3.0)\n",
      "    array([ 0.,  1.,  2.])\n",
      "    >>> np.arange(3,7)\n",
      "    array([3, 4, 5, 6])\n",
      "    >>> np.arange(3,7,2)\n",
      "    array([3, 5])\n",
      "\n",
      "arange([start,] stop[, step,], dtype=None)\n",
      "\n",
      "Return evenly spaced values within a given interval.\n",
      "\n",
      "Values are generated within the half-open interval ``[start, stop)``\n",
      "(in other words, the interval including `start` but excluding `stop`).\n",
      "For integer arguments the function is equivalent to the Python built-in\n",
      "`range <http://docs.python.org/lib/built-in-funcs.html>`_ function,\n",
      "but returns an ndarray rather than a list.\n",
      "\n",
      "When using a non-integer step, such as 0.1, the results will often not\n",
      "be consistent.  It is better to use ``linspace`` for these cases.\n",
      "\n",
      "Parameters\n",
      "----------\n",
      "start : number, optional\n",
      "    Start of interval.  The interval includes this value.  The default\n",
      "    start value is 0.\n",
      "stop : number\n",
      "    End of interval.  The interval does not include this value, except\n",
      "    in some cases where `step` is not an integer and floating point\n",
      "    round-off affects the length of `out`.\n",
      "step : number, optional\n",
      "    Spacing between values.  For any output `out`, this is the distance\n",
      "    between two adjacent values, ``out[i+1] - out[i]``.  The default\n",
      "    step size is 1.  If `step` is specified as a position argument,\n",
      "    `start` must also be given.\n",
      "dtype : dtype\n",
      "    The type of the output array.  If `dtype` is not given, infer the data\n",
      "    type from the other input arguments.\n",
      "\n",
      "Returns\n",
      "-------\n",
      "arange : ndarray\n",
      "    Array of evenly spaced values.\n",
      "\n",
      "    For floating point arguments, the length of the result is\n",
      "    ``ceil((stop - start)/step)``.  Because of floating point overflow,\n",
      "    this rule may result in the last element of `out` being greater\n",
      "    than `stop`.\n",
      "\n",
      "See Also\n",
      "--------\n",
      "linspace : Evenly spaced numbers with careful handling of endpoints.\n",
      "ogrid: Arrays of evenly spaced numbers in N-dimensions.\n",
      "mgrid: Grid-shaped arrays of evenly spaced numbers in N-dimensions.\n",
      "\n",
      "Examples\n",
      "--------\n",
      ">>> np.arange(3)\n",
      "array([0, 1, 2])\n",
      ">>> np.arange(3.0)\n",
      "array([ 0.,  1.,  2.])\n",
      ">>> np.arange(3,7)\n",
      "array([3, 4, 5, 6])\n",
      ">>> np.arange(3,7,2)\n",
      "array([3, 5])\n"
     ]
    }
   ],
   "source": [
    "import numpy\n",
    "help(numpy.arange)\n",
    "numpy.info(numpy.arange)"
   ]
  },
  {
   "cell_type": "markdown",
   "metadata": {},
   "source": [
    "### 3. Créer deux matrices (de type array) de dimension 3x3, tester si chaque les matrices  sont égales exactement (élément par élément), ou égales avec une tolérance donnée (par exemple 1e-8).\n"
   ]
  },
  {
   "cell_type": "code",
   "execution_count": 5,
   "metadata": {},
   "outputs": [
    {
     "name": "stdout",
     "output_type": "stream",
     "text": [
      "[[1 1 1]\n",
      " [2 2 2]\n",
      " [3 3 3]]\n",
      "[[1.         1.         1.        ]\n",
      " [2.0000001  1.99999999 2.000001  ]\n",
      " [3.         3.         3.        ]]\n",
      "[[ True  True  True]\n",
      " [False False False]\n",
      " [ True  True  True]]\n",
      "[[ True  True  True]\n",
      " [False  True False]\n",
      " [ True  True  True]]\n"
     ]
    }
   ],
   "source": [
    "import numpy as np\n",
    "\n",
    "a=np.array([[1,1,1],[2,2,2],[3,3,3]])\n",
    "b=np.array([[1,1,1],[2+1e-7,2-1e-8,2+1e-6],[3,3,3]])\n",
    "\n",
    "print (a)\n",
    "print (b)\n",
    "\n",
    "print(a==b)\n",
    "print(abs(a-b)<1E-8)"
   ]
  },
  {
   "cell_type": "markdown",
   "metadata": {},
   "source": [
    "### 4. Créer une matrice 8x8 et la remplir alternativement avec des 1 et 0 comme un échiquier\n"
   ]
  },
  {
   "cell_type": "code",
   "execution_count": 6,
   "metadata": {},
   "outputs": [
    {
     "name": "stdout",
     "output_type": "stream",
     "text": [
      "Echiquier:\n",
      "[[0. 1. 0. 1. 0. 1. 0. 1.]\n",
      " [1. 0. 1. 0. 1. 0. 1. 0.]\n",
      " [0. 1. 0. 1. 0. 1. 0. 1.]\n",
      " [1. 0. 1. 0. 1. 0. 1. 0.]\n",
      " [0. 1. 0. 1. 0. 1. 0. 1.]\n",
      " [1. 0. 1. 0. 1. 0. 1. 0.]\n",
      " [0. 1. 0. 1. 0. 1. 0. 1.]\n",
      " [1. 0. 1. 0. 1. 0. 1. 0.]]\n"
     ]
    }
   ],
   "source": [
    "import numpy as np\n",
    "\n",
    "print(\"Echiquier:\")\n",
    "\n",
    "e=np.zeros((8,8))\n",
    "e[0::2,1::2]=1\n",
    "e[1::2,0::2]=1\n",
    "print (e)"
   ]
  },
  {
   "cell_type": "markdown",
   "metadata": {},
   "source": [
    "### 5. Générez une matrice aléatoire 4x4 dont les éléments suivent une loi continue uniforme sur l'intervalle [1,3]"
   ]
  },
  {
   "cell_type": "code",
   "execution_count": 23,
   "metadata": {},
   "outputs": [
    {
     "name": "stdout",
     "output_type": "stream",
     "text": [
      "[[1.8762263  1.73603199 2.00895414 2.32714258]\n",
      " [2.77553457 1.89601909 1.65189987 2.701124  ]\n",
      " [1.63679165 1.98707508 1.63861893 1.89510353]\n",
      " [2.04162254 2.09393121 2.44291462 2.67413616]]\n"
     ]
    }
   ],
   "source": [
    "import numpy as np\n",
    "print(2*np.random.random_sample((4, 4))+1)"
   ]
  },
  {
   "cell_type": "markdown",
   "metadata": {},
   "source": [
    "### 6. Ecrivez une commande qui vérifie si un vecteur est bien un vecteur colonne (N lignes N>1, 1 colonne)"
   ]
  },
  {
   "cell_type": "code",
   "execution_count": 29,
   "metadata": {},
   "outputs": [
    {
     "name": "stdout",
     "output_type": "stream",
     "text": [
      "[[0.77575789]\n",
      " [0.4534615 ]\n",
      " [0.35127693]]\n",
      "True\n",
      "[[0.39126657 0.4681589 ]\n",
      " [0.00606601 0.8017327 ]\n",
      " [0.25688602 0.14995344]]\n",
      "False\n"
     ]
    }
   ],
   "source": [
    "import numpy as np\n",
    "\n",
    "a=np.array([[0.77575789], [0.4534615], [0.35127693]])\n",
    "b=np.array([[0.39126657,0.4681589],[0.00606601,0.8017327],[0.25688602,0.14995344]])\n",
    "dim_a=np.shape(a)\n",
    "print(a)\n",
    "print((dim_a[1]==1 and dim_a[0]>0) if (len(dim_a)==2) else False)\n",
    "\n",
    "dim_b=np.shape(b)\n",
    "print(b)\n",
    "print((dim_b[1]==1 and dim_b[0]>0) if (len(dim_b)==2) else False)\n"
   ]
  },
  {
   "cell_type": "markdown",
   "metadata": {},
   "source": [
    "### 7. Ecrivez une commande qui vérifie si deux matrices ont la même taille"
   ]
  },
  {
   "cell_type": "code",
   "execution_count": 25,
   "metadata": {},
   "outputs": [
    {
     "name": "stdout",
     "output_type": "stream",
     "text": [
      "[[0.77575789 0.        ]\n",
      " [0.4534615  0.        ]\n",
      " [0.35127693 0.        ]]\n",
      "[[0.39126657 0.4681589 ]\n",
      " [0.00606601 0.8017327 ]\n",
      " [0.25688602 0.14995344]]\n",
      "True\n"
     ]
    }
   ],
   "source": [
    "import numpy as np\n",
    "\n",
    "a=np.array([[0.77575789,0], [0.4534615,0], [0.35127693,0]])\n",
    "b=np.array([[0.39126657,0.4681589],[0.00606601,0.8017327],[0.25688602,0.14995344]])\n",
    "dim_a=np.shape(a)\n",
    "dim_b=np.shape(b)\n",
    "print(a)\n",
    "print(b)\n",
    "print(dim_a==dim_b)"
   ]
  },
  {
   "cell_type": "markdown",
   "metadata": {},
   "source": [
    "### 8. Vérifiez le type de données pour les opérations (a= np.array(b $*$ d)), avec b (d) = 1, 1.01, ..., forcez a à avoir le type int32 et vérifiez la valeur de a."
   ]
  },
  {
   "cell_type": "code",
   "execution_count": 26,
   "metadata": {
    "scrolled": true
   },
   "outputs": [
    {
     "name": "stdout",
     "output_type": "stream",
     "text": [
      "1.01\n",
      "float64\n",
      "1\n",
      "int32\n"
     ]
    }
   ],
   "source": [
    "import numpy as np\n",
    "a=np.array(1.01*1)\n",
    "print(a)\n",
    "print(a.dtype)\n",
    "a=np.int32(a)\n",
    "print(a)\n",
    "print(a.dtype)"
   ]
  },
  {
   "cell_type": "markdown",
   "metadata": {},
   "source": [
    "### Soit une matrice 3x3 (np.array), extrayez une ligne et une colonne qui soient des np.array de la bonne dimention"
   ]
  },
  {
   "cell_type": "code",
   "execution_count": 32,
   "metadata": {},
   "outputs": [
    {
     "name": "stdout",
     "output_type": "stream",
     "text": [
      "[[1]\n",
      " [0]\n",
      " [0]]\n",
      "(3, 1)\n",
      "[[1 2 3]]\n",
      "(1, 3)\n"
     ]
    }
   ],
   "source": [
    "import numpy as np\n",
    "a=np.array([[1,2,3],[0,1,0],[0,0,1]])\n",
    "print(a[:,[0]])\n",
    "print(np.shape(a[:,[0]]))\n",
    "print(a[[0],:])\n",
    "print(np.shape(a[[0],:]))"
   ]
  },
  {
   "cell_type": "markdown",
   "metadata": {},
   "source": [
    "###  Ecrivez une fonction qui effectue un produit scalaire dans $R^n$.  La fonction s'appellera prod_scal($a$,$b$).  Elle testera si $a$ et $b$ ont les bonnes dimensions."
   ]
  },
  {
   "cell_type": "code",
   "execution_count": 129,
   "metadata": {},
   "outputs": [
    {
     "name": "stdout",
     "output_type": "stream",
     "text": [
      "vectors should be column vectors\n",
      "None\n",
      "vectors should have the same size\n",
      "None\n",
      "14.0\n",
      "vectors should be column vectors\n",
      "None\n"
     ]
    }
   ],
   "source": [
    "\n",
    "a=np.random.random_sample((4,2))\n",
    "b=np.random.random_sample((4,2))\n",
    "\n",
    "print(prod_scal(a,b))\n",
    "a=np.random.random_sample((4,1))\n",
    "b=np.random.random_sample((4,2))\n",
    "\n",
    "print(prod_scal(a,b))\n",
    "\n",
    "a=np.array([[1.0], [2]])\n",
    "b=np.array([[4],[5]])\n",
    "c=prod_scal(a,b)\n",
    "print(c)\n",
    "print(prod_scal(a.T,b.T))"
   ]
  },
  {
   "cell_type": "raw",
   "metadata": {},
   "source": [
    "### Calculez le déterminant d'une matrice (np.linalg.det())"
   ]
  },
  {
   "cell_type": "code",
   "execution_count": 222,
   "metadata": {},
   "outputs": [
    {
     "name": "stdout",
     "output_type": "stream",
     "text": [
      "-2.0\n"
     ]
    }
   ],
   "source": [
    "\n",
    "a=np.array([[2,4,2],[1,1,0],[0,0,1]])\n"
   ]
  },
  {
   "cell_type": "markdown",
   "metadata": {},
   "source": [
    "### Ecrivez une fonction qui orthogonalise une base dans $R^n$.  Vous l'appellerez GramS."
   ]
  },
  {
   "cell_type": "code",
   "execution_count": 2,
   "metadata": {},
   "outputs": [
    {
     "name": "stdout",
     "output_type": "stream",
     "text": [
      "Input matrix should be square\n",
      "[[2 2 2]\n",
      " [1 1 0]\n",
      " [0 0 1]]\n",
      "Matrix should not be rank deficient\n",
      "[[2 4 3]\n",
      " [1 1 0]\n",
      " [0 0 1]]\n",
      "[[ 8.94427191e-01  4.47213595e-01 -5.55111512e-16]\n",
      " [ 4.47213595e-01 -8.94427191e-01  0.00000000e+00]\n",
      " [ 0.00000000e+00  0.00000000e+00  1.00000000e+00]]\n",
      "[[ 1.00000000e+00  4.25633818e-16 -4.96506831e-16]\n",
      " [ 4.25633818e-16  1.00000000e+00 -2.48253415e-16]\n",
      " [-4.96506831e-16 -2.48253415e-16  1.00000000e+00]]\n",
      "[[1 4 3]\n",
      " [0 1 0]\n",
      " [0 0 1]]\n",
      "[[1. 0. 0.]\n",
      " [0. 1. 0.]\n",
      " [0. 0. 1.]]\n",
      "[[1. 0. 0.]\n",
      " [0. 1. 0.]\n",
      " [0. 0. 1.]]\n",
      "[[1 4 3]\n",
      " [0 1 0]\n",
      " [1 0 1]]\n",
      "[[ 0.70710678  0.66666667  0.23570226]\n",
      " [ 0.          0.33333333 -0.94280904]\n",
      " [ 0.70710678 -0.66666667 -0.23570226]]\n",
      "[[ 1.00000000e+00  2.52702567e-16  6.59639667e-16]\n",
      " [ 2.52702567e-16  1.00000000e+00 -5.06735729e-16]\n",
      " [ 6.59639667e-16 -5.06735729e-16  1.00000000e+00]]\n"
     ]
    }
   ],
   "source": [
    "#!/usr/bin/env python3\n",
    "# -*- coding: utf-8 -*-\n",
    "\n",
    "import numpy as np\n",
    "\n",
    "def vecteur_colonne(a):\n",
    "    shape = a.shape;\n",
    "    if len(shape) <2:\n",
    "        return False;\n",
    "    return (shape[0]>1 and shape[1]==1);\n",
    "\n",
    "def prod_scal(a,b):\n",
    "    if not (vecteur_colonne(a)) or not (vecteur_colonne(b)) :\n",
    "        print(\"Vectors should be column vectors\");\n",
    "        return;\n",
    "    if a.shape != b.shape :\n",
    "        print(\"Vectors should have the same size\");\n",
    "        return;\n",
    "    return np.sum(a*b)\n",
    "    \n",
    "def check_square(a): #Verifie si une matrice a est carrée\n",
    "    shape = a.shape;\n",
    "    if len(shape)!=2: # shape doit être de la forme (nb_lignes,nb_colonnes)\n",
    "        return False;\n",
    "    return shape[0]==shape[1]; #On verifie si nb_lignes = nb_colonnes\n",
    "\n",
    "def GramS(a):\n",
    "    if not check_square(a):\n",
    "        print(\"Input matrix should be square\");\n",
    "        return;\n",
    "        \n",
    "    nbColumns = a.shape[1]; #Nombre de colonnes, qui correspond au nombre de vecteurs dans la base\n",
    "    if np.linalg.matrix_rank(a) < nbColumns : #Si rang(M) est inferieur au nombre de colonnes de M, alors M n'est pas de rang max\n",
    "        print(\"Matrix should not be rank deficient\");\n",
    "        return; \n",
    "    a = a.astype(np.float64); #On a besoin d'avoir des float sinon python rale\n",
    "    res = np.zeros_like(a); #Crée une matrice de la meme forme que 'a', mais remplie de zeros\n",
    "    \n",
    "    #Debut de l'algo de Gram-S\n",
    "    #On va créer autant de vecteurs que de colonnes dans a\n",
    "    for i in range(0,nbColumns): \n",
    "        nextVector = a[:,[i]]; #Pour créer v_i, on commence en prennant le iéme vecteur de a \n",
    "        #On parcourt tous les vecteurs qu'on a déjà créés, et on soustrait à v_i les composantes liées à ces vecteurs \n",
    "        for j in range(0,i):   \n",
    "            previousVector = res[:,[j]];\n",
    "            nextVector -= prod_scal(nextVector,previousVector)*previousVector\n",
    "\n",
    "        res[:,[i]]=nextVector/(np.linalg.norm(nextVector)) #On normalise v_i et on l'ajoute a botre base\n",
    "    return res;\n",
    "\n",
    "a=np.random.random_sample((4,3))\n",
    "res=GramS(a)\n",
    "a=np.array([[2,2,2],[1,1,0],[0,0,1]])\n",
    "print(a)\n",
    "res=GramS(a)\n",
    "\n",
    "a=np.array([[2,4,3],[1,1,0],[0,0,1]])\n",
    "print(a)\n",
    "\n",
    "out=GramS(a)\n",
    "print(out)\n",
    "print(np.dot(out.T,out))\n",
    "a=np.array([[1,4,3],[0,1,0],[0,0,1]])\n",
    "print(a)\n",
    "\n",
    "out=GramS(a)\n",
    "print(out)\n",
    "print(np.dot(out.T,out))\n",
    "a=np.array([[1,4,3],[0,1,0],[1,0,1]])\n",
    "print(a)\n",
    "\n",
    "out=GramS(a)\n",
    "print(out)\n",
    "print(np.dot(out.T,out))\n"
   ]
  },
  {
   "cell_type": "code",
   "execution_count": null,
   "metadata": {
    "collapsed": true
   },
   "outputs": [],
   "source": []
  },
  {
   "cell_type": "code",
   "execution_count": null,
   "metadata": {
    "collapsed": true
   },
   "outputs": [],
   "source": []
  }
 ],
 "metadata": {
  "kernelspec": {
   "display_name": "Python 3",
   "language": "python",
   "name": "python3"
  },
  "language_info": {
   "codemirror_mode": {
    "name": "ipython",
    "version": 3
   },
   "file_extension": ".py",
   "mimetype": "text/x-python",
   "name": "python",
   "nbconvert_exporter": "python",
   "pygments_lexer": "ipython3",
   "version": "3.7.0"
  }
 },
 "nbformat": 4,
 "nbformat_minor": 2
}
